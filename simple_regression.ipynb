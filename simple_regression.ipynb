{
  "nbformat": 4,
  "nbformat_minor": 0,
  "metadata": {
    "colab": {
      "provenance": [],
      "authorship_tag": "ABX9TyNUVGDjXlYx7A05R/lWfQQx",
      "include_colab_link": true
    },
    "kernelspec": {
      "name": "python3",
      "display_name": "Python 3"
    },
    "language_info": {
      "name": "python"
    }
  },
  "cells": [
    {
      "cell_type": "markdown",
      "metadata": {
        "id": "view-in-github",
        "colab_type": "text"
      },
      "source": [
        "<a href=\"https://colab.research.google.com/github/nivas8803/Machine-Learning-Learning/blob/Learning_branch/simple_regression.ipynb\" target=\"_parent\"><img src=\"https://colab.research.google.com/assets/colab-badge.svg\" alt=\"Open In Colab\"/></a>"
      ]
    },
    {
      "cell_type": "markdown",
      "source": [
        "#Importing Libraries"
      ],
      "metadata": {
        "id": "30_t6MmuYyN5"
      }
    },
    {
      "cell_type": "code",
      "source": [
        "import numpy as np\n",
        "import pandas as pd\n",
        "import matplotlib.pyplot as plt\n",
        "from sklearn.model_selection import train_test_split"
      ],
      "metadata": {
        "id": "UNtfBydDYv5C"
      },
      "execution_count": null,
      "outputs": []
    },
    {
      "cell_type": "markdown",
      "source": [
        "#Importing dataset"
      ],
      "metadata": {
        "id": "kmM87skSZqBl"
      }
    },
    {
      "cell_type": "code",
      "execution_count": null,
      "metadata": {
        "id": "IZjOZ_yQYnhG"
      },
      "outputs": [],
      "source": [
        "ds = pd.read_csv('Salary_Data.csv')\n",
        "X = ds['YearsExperience']\n",
        "y = ds['Salary']"
      ]
    },
    {
      "cell_type": "code",
      "source": [
        "print(X)"
      ],
      "metadata": {
        "colab": {
          "base_uri": "https://localhost:8080/"
        },
        "id": "jhbhm0nRaQoG",
        "outputId": "e1e07015-5b70-4770-d519-488cf13caa70"
      },
      "execution_count": null,
      "outputs": [
        {
          "output_type": "stream",
          "name": "stdout",
          "text": [
            "0      1.1\n",
            "1      1.3\n",
            "2      1.5\n",
            "3      2.0\n",
            "4      2.2\n",
            "5      2.9\n",
            "6      3.0\n",
            "7      3.2\n",
            "8      3.2\n",
            "9      3.7\n",
            "10     3.9\n",
            "11     4.0\n",
            "12     4.0\n",
            "13     4.1\n",
            "14     4.5\n",
            "15     4.9\n",
            "16     5.1\n",
            "17     5.3\n",
            "18     5.9\n",
            "19     6.0\n",
            "20     6.8\n",
            "21     7.1\n",
            "22     7.9\n",
            "23     8.2\n",
            "24     8.7\n",
            "25     9.0\n",
            "26     9.5\n",
            "27     9.6\n",
            "28    10.3\n",
            "29    10.5\n",
            "Name: YearsExperience, dtype: float64\n"
          ]
        }
      ]
    },
    {
      "cell_type": "code",
      "source": [
        "print(y)"
      ],
      "metadata": {
        "colab": {
          "base_uri": "https://localhost:8080/"
        },
        "id": "tJUtS5olaWGe",
        "outputId": "7fc25d03-4eec-4539-ff1b-5f14ecc29334"
      },
      "execution_count": null,
      "outputs": [
        {
          "output_type": "stream",
          "name": "stdout",
          "text": [
            "0      39343.0\n",
            "1      46205.0\n",
            "2      37731.0\n",
            "3      43525.0\n",
            "4      39891.0\n",
            "5      56642.0\n",
            "6      60150.0\n",
            "7      54445.0\n",
            "8      64445.0\n",
            "9      57189.0\n",
            "10     63218.0\n",
            "11     55794.0\n",
            "12     56957.0\n",
            "13     57081.0\n",
            "14     61111.0\n",
            "15     67938.0\n",
            "16     66029.0\n",
            "17     83088.0\n",
            "18     81363.0\n",
            "19     93940.0\n",
            "20     91738.0\n",
            "21     98273.0\n",
            "22    101302.0\n",
            "23    113812.0\n",
            "24    109431.0\n",
            "25    105582.0\n",
            "26    116969.0\n",
            "27    112635.0\n",
            "28    122391.0\n",
            "29    121872.0\n",
            "Name: Salary, dtype: float64\n"
          ]
        }
      ]
    },
    {
      "cell_type": "markdown",
      "source": [
        "#Differentiating the train and test datasets"
      ],
      "metadata": {
        "id": "gCZVCvCxadgx"
      }
    },
    {
      "cell_type": "code",
      "source": [
        "X_train, X_test, y_train, y_test = train_test_split(X,y, test_size=0.2,random_state=0)"
      ],
      "metadata": {
        "id": "sMaJk8Tfahx9"
      },
      "execution_count": null,
      "outputs": []
    },
    {
      "cell_type": "code",
      "source": [
        "print(X_train)"
      ],
      "metadata": {
        "colab": {
          "base_uri": "https://localhost:8080/"
        },
        "id": "nFTF1fB6a8jK",
        "outputId": "c42180fd-2e60-4234-fef5-db3b5b66fe58"
      },
      "execution_count": null,
      "outputs": [
        {
          "output_type": "stream",
          "name": "stdout",
          "text": [
            "27     9.6\n",
            "11     4.0\n",
            "17     5.3\n",
            "22     7.9\n",
            "5      2.9\n",
            "16     5.1\n",
            "8      3.2\n",
            "14     4.5\n",
            "23     8.2\n",
            "20     6.8\n",
            "1      1.3\n",
            "29    10.5\n",
            "6      3.0\n",
            "4      2.2\n",
            "18     5.9\n",
            "19     6.0\n",
            "9      3.7\n",
            "7      3.2\n",
            "25     9.0\n",
            "3      2.0\n",
            "0      1.1\n",
            "21     7.1\n",
            "15     4.9\n",
            "12     4.0\n",
            "Name: YearsExperience, dtype: float64\n"
          ]
        }
      ]
    },
    {
      "cell_type": "code",
      "source": [
        "print(X_test)"
      ],
      "metadata": {
        "colab": {
          "base_uri": "https://localhost:8080/"
        },
        "id": "qnU1AvoqbAWZ",
        "outputId": "80b572a0-a208-4305-ab2c-89e65173a896"
      },
      "execution_count": null,
      "outputs": [
        {
          "output_type": "stream",
          "name": "stdout",
          "text": [
            "2      1.5\n",
            "28    10.3\n",
            "13     4.1\n",
            "10     3.9\n",
            "26     9.5\n",
            "24     8.7\n",
            "Name: YearsExperience, dtype: float64\n"
          ]
        }
      ]
    },
    {
      "cell_type": "markdown",
      "source": [
        "#Training the Simple Linear Regression on the training set"
      ],
      "metadata": {
        "id": "eMeB2Yhoc1ak"
      }
    },
    {
      "cell_type": "code",
      "source": [
        "from sklearn.linear_model import LinearRegression\n",
        "regressor = LinearRegression()\n",
        "#got 2D error so changing the data to the 2D array\n",
        "X_train = np.array(X_train).reshape(-1, 1)\n",
        "y_train = np.array(y_train).reshape(-1, 1)\n",
        "regressor.fit(X_train, y_train)"
      ],
      "metadata": {
        "colab": {
          "base_uri": "https://localhost:8080/",
          "height": 75
        },
        "id": "h2bV206uc_WC",
        "outputId": "cc385162-f7af-46ac-c4dd-ba101a3a248d"
      },
      "execution_count": null,
      "outputs": [
        {
          "output_type": "execute_result",
          "data": {
            "text/plain": [
              "LinearRegression()"
            ],
            "text/html": [
              "<style>#sk-container-id-3 {color: black;background-color: white;}#sk-container-id-3 pre{padding: 0;}#sk-container-id-3 div.sk-toggleable {background-color: white;}#sk-container-id-3 label.sk-toggleable__label {cursor: pointer;display: block;width: 100%;margin-bottom: 0;padding: 0.3em;box-sizing: border-box;text-align: center;}#sk-container-id-3 label.sk-toggleable__label-arrow:before {content: \"▸\";float: left;margin-right: 0.25em;color: #696969;}#sk-container-id-3 label.sk-toggleable__label-arrow:hover:before {color: black;}#sk-container-id-3 div.sk-estimator:hover label.sk-toggleable__label-arrow:before {color: black;}#sk-container-id-3 div.sk-toggleable__content {max-height: 0;max-width: 0;overflow: hidden;text-align: left;background-color: #f0f8ff;}#sk-container-id-3 div.sk-toggleable__content pre {margin: 0.2em;color: black;border-radius: 0.25em;background-color: #f0f8ff;}#sk-container-id-3 input.sk-toggleable__control:checked~div.sk-toggleable__content {max-height: 200px;max-width: 100%;overflow: auto;}#sk-container-id-3 input.sk-toggleable__control:checked~label.sk-toggleable__label-arrow:before {content: \"▾\";}#sk-container-id-3 div.sk-estimator input.sk-toggleable__control:checked~label.sk-toggleable__label {background-color: #d4ebff;}#sk-container-id-3 div.sk-label input.sk-toggleable__control:checked~label.sk-toggleable__label {background-color: #d4ebff;}#sk-container-id-3 input.sk-hidden--visually {border: 0;clip: rect(1px 1px 1px 1px);clip: rect(1px, 1px, 1px, 1px);height: 1px;margin: -1px;overflow: hidden;padding: 0;position: absolute;width: 1px;}#sk-container-id-3 div.sk-estimator {font-family: monospace;background-color: #f0f8ff;border: 1px dotted black;border-radius: 0.25em;box-sizing: border-box;margin-bottom: 0.5em;}#sk-container-id-3 div.sk-estimator:hover {background-color: #d4ebff;}#sk-container-id-3 div.sk-parallel-item::after {content: \"\";width: 100%;border-bottom: 1px solid gray;flex-grow: 1;}#sk-container-id-3 div.sk-label:hover label.sk-toggleable__label {background-color: #d4ebff;}#sk-container-id-3 div.sk-serial::before {content: \"\";position: absolute;border-left: 1px solid gray;box-sizing: border-box;top: 0;bottom: 0;left: 50%;z-index: 0;}#sk-container-id-3 div.sk-serial {display: flex;flex-direction: column;align-items: center;background-color: white;padding-right: 0.2em;padding-left: 0.2em;position: relative;}#sk-container-id-3 div.sk-item {position: relative;z-index: 1;}#sk-container-id-3 div.sk-parallel {display: flex;align-items: stretch;justify-content: center;background-color: white;position: relative;}#sk-container-id-3 div.sk-item::before, #sk-container-id-3 div.sk-parallel-item::before {content: \"\";position: absolute;border-left: 1px solid gray;box-sizing: border-box;top: 0;bottom: 0;left: 50%;z-index: -1;}#sk-container-id-3 div.sk-parallel-item {display: flex;flex-direction: column;z-index: 1;position: relative;background-color: white;}#sk-container-id-3 div.sk-parallel-item:first-child::after {align-self: flex-end;width: 50%;}#sk-container-id-3 div.sk-parallel-item:last-child::after {align-self: flex-start;width: 50%;}#sk-container-id-3 div.sk-parallel-item:only-child::after {width: 0;}#sk-container-id-3 div.sk-dashed-wrapped {border: 1px dashed gray;margin: 0 0.4em 0.5em 0.4em;box-sizing: border-box;padding-bottom: 0.4em;background-color: white;}#sk-container-id-3 div.sk-label label {font-family: monospace;font-weight: bold;display: inline-block;line-height: 1.2em;}#sk-container-id-3 div.sk-label-container {text-align: center;}#sk-container-id-3 div.sk-container {/* jupyter's `normalize.less` sets `[hidden] { display: none; }` but bootstrap.min.css set `[hidden] { display: none !important; }` so we also need the `!important` here to be able to override the default hidden behavior on the sphinx rendered scikit-learn.org. See: https://github.com/scikit-learn/scikit-learn/issues/21755 */display: inline-block !important;position: relative;}#sk-container-id-3 div.sk-text-repr-fallback {display: none;}</style><div id=\"sk-container-id-3\" class=\"sk-top-container\"><div class=\"sk-text-repr-fallback\"><pre>LinearRegression()</pre><b>In a Jupyter environment, please rerun this cell to show the HTML representation or trust the notebook. <br />On GitHub, the HTML representation is unable to render, please try loading this page with nbviewer.org.</b></div><div class=\"sk-container\" hidden><div class=\"sk-item\"><div class=\"sk-estimator sk-toggleable\"><input class=\"sk-toggleable__control sk-hidden--visually\" id=\"sk-estimator-id-3\" type=\"checkbox\" checked><label for=\"sk-estimator-id-3\" class=\"sk-toggleable__label sk-toggleable__label-arrow\">LinearRegression</label><div class=\"sk-toggleable__content\"><pre>LinearRegression()</pre></div></div></div></div></div>"
            ]
          },
          "metadata": {},
          "execution_count": 19
        }
      ]
    },
    {
      "cell_type": "markdown",
      "source": [
        "#Predicting the test set"
      ],
      "metadata": {
        "id": "ox-xnODggKNg"
      }
    },
    {
      "cell_type": "code",
      "source": [
        "y_pred = regressor.predict(X_test)"
      ],
      "metadata": {
        "id": "wBtUvGCrgOHD"
      },
      "execution_count": null,
      "outputs": []
    },
    {
      "cell_type": "markdown",
      "source": [
        "#Visualizing the trained datase"
      ],
      "metadata": {
        "id": "hcNFDoAOhinF"
      }
    },
    {
      "cell_type": "code",
      "source": [
        "plt.scatter(X_train, y_train, color = 'red')\n",
        "plt.plot(X_train, regressor.predict(X_train), color = 'blue')\n",
        "plt.title('Experience vs Salary (Training set)')\n",
        "plt.xlabel('Years of Experience')\n",
        "plt.ylabel('Salary')\n",
        "plt.show()"
      ],
      "metadata": {
        "colab": {
          "base_uri": "https://localhost:8080/",
          "height": 472
        },
        "id": "qkZw1K3DhmlZ",
        "outputId": "b2de53b8-32cc-4740-e557-54e875f47bc1"
      },
      "execution_count": null,
      "outputs": [
        {
          "output_type": "display_data",
          "data": {
            "text/plain": [
              "<Figure size 640x480 with 1 Axes>"
            ],
            "image/png": "[encoded data removed]"
          },
          "metadata": {}
        }
      ]
    },
    {
      "cell_type": "markdown",
      "source": [
        "#Visualising the test dataset"
      ],
      "metadata": {
        "id": "1WdTOFdHjvgP"
      }
    },
    {
      "cell_type": "code",
      "source": [
        "plt.scatter(X_test, y_test, color = 'red')\n",
        "plt.plot(X_train, regressor.predict(X_train), color = 'blue')\n",
        "plt.title('Experience vs Salary (Test set)')\n",
        "plt.xlabel('Years of Experience')\n",
        "plt.ylabel('Salary')\n",
        "plt.show()"
      ],
      "metadata": {
        "colab": {
          "base_uri": "https://localhost:8080/",
          "height": 472
        },
        "id": "r6bDb92TjziH",
        "outputId": "a1bbd003-b526-476e-8fbb-bf6f3280b933"
      },
      "execution_count": null,
      "outputs": [
        {
          "output_type": "display_data",
          "data": {
            "text/plain": [
              "<Figure size 640x480 with 1 Axes>"
            ],
            "image/png": "[encoded data removed]"
          },
          "metadata": {}
        }
      ]
    },
    {
      "cell_type": "markdown",
      "source": [
        "#Making a single prediction (for example the salary of an employee with 10 years of experience)"
      ],
      "metadata": {
        "id": "7gtD12mqnVTA"
      }
    },
    {
      "cell_type": "code",
      "source": [
        "print(regressor.predict([[10]]))\n",
        "#Double braces are must because predict only accepts 2D arrays to to make it 2D we keep double braces"
      ],
      "metadata": {
        "colab": {
          "base_uri": "https://localhost:8080/"
        },
        "id": "WDPHc3cXnei7",
        "outputId": "c1da8017-a210-44d5-d655-fce980690479"
      },
      "execution_count": null,
      "outputs": [
        {
          "output_type": "stream",
          "name": "stdout",
          "text": [
            "[[119905.85041792]]\n"
          ]
        }
      ]
    },
    {
      "cell_type": "markdown",
      "source": [
        "#Getting the final linear regression equation with the values of the coefficients"
      ],
      "metadata": {
        "id": "9OQsb3cjnzJk"
      }
    },
    {
      "cell_type": "code",
      "source": [
        "print(regressor.coef_)\n",
        "print(regressor.intercept_)\n",
        "\n",
        "#y=coef + intercept*X linear regression equation"
      ],
      "metadata": {
        "colab": {
          "base_uri": "https://localhost:8080/"
        },
        "id": "EkMrKFebn03I",
        "outputId": "a9cd8a00-90c0-46a9-9294-3f9d8102f3c7"
      },
      "execution_count": null,
      "outputs": [
        {
          "output_type": "stream",
          "name": "stdout",
          "text": [
            "[[9312.57512673]]\n",
            "[26780.09915063]\n"
          ]
        }
      ]
    }
  ]
}